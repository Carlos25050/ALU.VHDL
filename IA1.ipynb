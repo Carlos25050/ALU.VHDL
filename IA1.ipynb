{
  "cells": [
    {
      "cell_type": "markdown",
      "metadata": {
        "id": "view-in-github",
        "colab_type": "text"
      },
      "source": [
        "<a href=\"https://colab.research.google.com/github/Carlos25050/ALU.VHDL/blob/main/IA1.ipynb\" target=\"_parent\"><img src=\"https://colab.research.google.com/assets/colab-badge.svg\" alt=\"Open In Colab\"/></a>"
      ]
    },
    {
      "cell_type": "code",
      "source": [
        "import tensorflow as tf\n",
        "import numpy as np "
      ],
      "metadata": {
        "id": "HlmR8g6E7SbQ"
      },
      "execution_count": null,
      "outputs": []
    },
    {
      "cell_type": "code",
      "source": [
        "celsius = np.array([-40,-10,0,8,15,22,38],dtype=float)\n",
        "fahrenheit = np.array([-40,14,32,46,59,72,100],dtype=float)"
      ],
      "metadata": {
        "id": "ssdErKDB7bNT"
      },
      "execution_count": null,
      "outputs": []
    },
    {
      "cell_type": "code",
      "source": [
        "#capa = tf.keras.layers.Dense(units=1, input_shape=[1])\n",
        "#modelo = tf.keras.Sequential([capa]) \n",
        "\n",
        "oculta1 = tf.keras.layers.Dense(units=3, input_shape=[1])\n",
        "oculta2 = tf.keras.layers.Dense(units=3)\n",
        "oculta3 = tf.keras.layers.Dense(units=3)\n",
        "oculta4 = tf.keras.layers.Dense(units=3)\n",
        "salida = tf.keras.layers.Dense(units=1)\n",
        "modelo = tf.keras.Sequential([oculta1,oculta2,oculta3,oculta4,salida])"
      ],
      "metadata": {
        "id": "t_9WO_9J8d30"
      },
      "execution_count": null,
      "outputs": []
    },
    {
      "cell_type": "code",
      "source": [
        "modelo.compile(\n",
        "    optimizer=tf.keras.optimizers.Adam(0.1),\n",
        "    loss='mean_squared_error'\n",
        ")"
      ],
      "metadata": {
        "id": "3bOs--tC9faa"
      },
      "execution_count": null,
      "outputs": []
    },
    {
      "cell_type": "code",
      "source": [
        "print(\"Iniciando el entrenamiento...\")\n",
        "historial = modelo.fit(celsius, fahrenheit, epochs=1000, verbose=False)\n",
        "print(\"Modelo entrenado!!!\")"
      ],
      "metadata": {
        "id": "82z0_V-Q-CrJ",
        "outputId": "262a1786-13b3-49a3-b6bd-04c4ee5a782d",
        "colab": {
          "base_uri": "https://localhost:8080/"
        }
      },
      "execution_count": null,
      "outputs": [
        {
          "output_type": "stream",
          "name": "stdout",
          "text": [
            "Iniciando el entrenamiento...\n",
            "Modelo entrenado!!!\n"
          ]
        }
      ]
    },
    {
      "cell_type": "code",
      "source": [
        "import matplotlib.pyplot as plt\n",
        "plt.xlabel(\"# epoca\")\n",
        "plt.ylabel(\"Magnitud de pérdida\")\n",
        "plt.plot(historial.history[\"loss\"])"
      ],
      "metadata": {
        "id": "XQRIYADr-jz_",
        "outputId": "5c994103-4832-410e-a3c5-53ef92b4018e",
        "colab": {
          "base_uri": "https://localhost:8080/",
          "height": 469
        }
      },
      "execution_count": null,
      "outputs": [
        {
          "output_type": "execute_result",
          "data": {
            "text/plain": [
              "[<matplotlib.lines.Line2D at 0x7ff6bca2ef20>]"
            ]
          },
          "metadata": {},
          "execution_count": 31
        },
        {
          "output_type": "display_data",
          "data": {
            "text/plain": [
              "<Figure size 640x480 with 1 Axes>"
            ],
            "image/png": "[encoded data removed]"
          },
          "metadata": {}
        }
      ]
    },
    {
      "cell_type": "code",
      "source": [
        "print(\"Hagamos una prediccion\")\n",
        "resultado = modelo.predict([100.0])\n",
        "print(\"El resultado es \"+ str (resultado) +\"grados fahrenheit!\")"
      ],
      "metadata": {
        "id": "JyxbfqzB_1-1",
        "outputId": "80632de6-bbc9-46c9-aca6-9f67b7fe213d",
        "colab": {
          "base_uri": "https://localhost:8080/"
        }
      },
      "execution_count": null,
      "outputs": [
        {
          "output_type": "stream",
          "name": "stdout",
          "text": [
            "Hagamos una prediccion\n",
            "1/1 [==============================] - 0s 163ms/step\n",
            "El resultado es [[211.74742]]grados fahrenheit!\n"
          ]
        }
      ]
    },
    {
      "cell_type": "code",
      "source": [
        "print(\"Capas internas del modelo\")\n",
        "#print(capa.get_weights())\n",
        "print(oculta1.get_weights())\n",
        "print(oculta2.get_weights())\n",
        "print(oculta3.get_weights())\n",
        "print(oculta4.get_weights())\n",
        "print(salida.get_weights())"
      ],
      "metadata": {
        "id": "fkjXIDywA7P8",
        "outputId": "da13b46d-350d-469a-8bff-af0f95f680b0",
        "colab": {
          "base_uri": "https://localhost:8080/"
        }
      },
      "execution_count": null,
      "outputs": [
        {
          "output_type": "stream",
          "name": "stdout",
          "text": [
            "Capas internas del modelo\n",
            "[array([[-0.19071452, -0.08531879,  0.69092035]], dtype=float32), array([-2.2421553 , -0.23225531,  2.591966  ], dtype=float32)]\n",
            "[array([[ 0.5309437 ,  0.6087381 , -0.5873739 ],\n",
            "       [ 0.17379987, -0.2943715 ,  0.18284541],\n",
            "       [-1.0613061 , -0.03502413,  0.03900785]], dtype=float32), array([-2.580676 ,  0.5617905,  2.2171063], dtype=float32)]\n",
            "[array([[ 1.1333365 ,  0.06053555, -0.1751696 ],\n",
            "       [ 0.17417109, -0.4738268 ,  0.9898703 ],\n",
            "       [ 0.29986182, -1.0610965 ,  0.36444545]], dtype=float32), array([-2.5126498, -2.452175 , -1.0719557], dtype=float32)]\n",
            "[array([[-0.23591828,  0.9469937 ,  1.0344466 ],\n",
            "       [ 0.451707  ,  0.8838871 ,  1.000303  ],\n",
            "       [-0.05373451,  0.2971451 , -0.04374237]], dtype=float32), array([ 1.7638093, -2.4983363, -2.4844053], dtype=float32)]\n",
            "[array([[ 0.10161573],\n",
            "       [-0.88445276],\n",
            "       [-0.82068974]], dtype=float32), array([2.4724793], dtype=float32)]\n"
          ]
        }
      ]
    }
  ],
  "metadata": {
    "colab": {
      "name": "Te damos la bienvenida a Colaboratory",
      "toc_visible": true,
      "provenance": [],
      "include_colab_link": true
    },
    "kernelspec": {
      "display_name": "Python 3",
      "name": "python3"
    }
  },
  "nbformat": 4,
  "nbformat_minor": 0
}